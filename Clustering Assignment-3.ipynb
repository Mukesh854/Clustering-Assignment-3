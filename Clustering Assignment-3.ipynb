{
 "cells": [
  {
   "cell_type": "markdown",
   "id": "adf3e02a-4cf5-4e7b-bccd-ae446dde2457",
   "metadata": {},
   "source": [
    "# Clustering Assignment-3"
   ]
  },
  {
   "cell_type": "markdown",
   "id": "d610c9a4-0ff6-4a9e-a0ce-a46d5cb227d7",
   "metadata": {},
   "source": [
    "Q1. Explain the basic concept of clustering and give examples of applications where clustering is useful."
   ]
  },
  {
   "cell_type": "markdown",
   "id": "15b39df9-aab5-424c-82df-810540b04faf",
   "metadata": {},
   "source": [
    "\n",
    "Clustering groups similar data points together based on certain characteristics. It involves measuring similarity, assigning data points to clusters, and representing clusters with centroids. Examples of applications include customer segmentation, image segmentation, anomaly detection, document clustering, genomic analysis, and social network analysis.\n",
    "\n",
    "\n",
    "\n",
    "\n"
   ]
  },
  {
   "cell_type": "markdown",
   "id": "5306daaf-c366-49a0-a0e7-e8e107685084",
   "metadata": {},
   "source": [
    "Q2. What is DBSCAN and how does it differ from other clustering algorithms such as k-means and\n",
    "hierarchical clustering?"
   ]
  },
  {
   "cell_type": "markdown",
   "id": "9d16209d-07e4-4da4-aeff-f80f790b4189",
   "metadata": {},
   "source": [
    "\n",
    "DBSCAN is a density-based clustering algorithm that identifies clusters based on closely packed data points, handling noise and irregular cluster shapes. Unlike k-means and hierarchical clustering, it doesn't require specifying the number of clusters beforehand and can handle variable cluster sizes. However, it requires setting parameters like epsilon and minPts and is efficient for large datasets.\n",
    "\n",
    "\n",
    "\n",
    "\n"
   ]
  },
  {
   "cell_type": "markdown",
   "id": "47f74ea6-6817-44b0-b7d3-f450ca557c7d",
   "metadata": {},
   "source": [
    "Q3. How do you determine the optimal values for the epsilon and minimum points parameters in DBSCAN\n",
    "clustering?"
   ]
  },
  {
   "cell_type": "markdown",
   "id": "38305aca-bf74-4006-83f3-78082c3511dd",
   "metadata": {},
   "source": [
    "\n",
    "\n",
    ". Visual inspection of clustering results.\n",
    "\n",
    ". Using reachability plots to identify abrupt distance changes.\n",
    "\n",
    ". Computing silhouette scores to maximize clustering quality.\n",
    "\n",
    ". Employing the elbow method if applicable.\n",
    "\n",
    ". Considering domain knowledge or constraints."
   ]
  },
  {
   "cell_type": "markdown",
   "id": "12fd6300-1db2-450b-bff5-a466ed0cf9e8",
   "metadata": {},
   "source": [
    "Q4. How does DBSCAN clustering handle outliers in a dataset?"
   ]
  },
  {
   "cell_type": "markdown",
   "id": "407612ff-bd3f-4247-be53-959bfcfe3043",
   "metadata": {},
   "source": [
    "DBSCAN handles outliers by categorizing them as noise points, which are not assigned to any cluster. It focuses on densely populated regions to form clusters around core points, effectively ignoring isolated outliers.\n",
    "\n",
    "\n",
    "\n",
    "\n"
   ]
  },
  {
   "cell_type": "markdown",
   "id": "3614a981-f8c2-4980-bff0-41b903fbb2bf",
   "metadata": {},
   "source": [
    "Q5. How does DBSCAN clustering differ from k-means clustering?"
   ]
  },
  {
   "cell_type": "markdown",
   "id": "8d4a5c40-6fd5-428f-b1d4-5ea7e6e4806a",
   "metadata": {},
   "source": [
    "\n",
    "DBSCAN is a density-based clustering algorithm that doesn't require specifying the number of clusters and can handle outliers well, while k-means is centroid-based, requiring the number of clusters to be predefined and sensitive to outliers. DBSCAN can identify clusters of arbitrary shapes and sizes, while k-means assumes spherical clusters."
   ]
  },
  {
   "cell_type": "markdown",
   "id": "1be0e329-7877-466b-8c34-e0cc2e5259a3",
   "metadata": {},
   "source": [
    "Q6. Can DBSCAN clustering be applied to datasets with high dimensional feature spaces? If so, what are\n",
    "some potential challenges?"
   ]
  },
  {
   "cell_type": "markdown",
   "id": "9832faef-3aa6-4ec2-ad77-ad02dc1977db",
   "metadata": {},
   "source": [
    "\n",
    "Yes, DBSCAN clustering can be applied to datasets with high-dimensional feature spaces, but it faces challenges such as the curse of dimensionality, parameter sensitivity, computational complexity, and interpretability issues. Dimensionality reduction techniques may be helpful in preprocessing the data for better clustering results.\n",
    "\n",
    "\n",
    "\n",
    "\n"
   ]
  },
  {
   "cell_type": "markdown",
   "id": "70741544-8dc5-4c04-a4e3-889075a86859",
   "metadata": {},
   "source": [
    "Q7. How does DBSCAN clustering handle clusters with varying densities?"
   ]
  },
  {
   "cell_type": "markdown",
   "id": "182404ec-7b39-4ed5-a437-7bc602057ee6",
   "metadata": {},
   "source": [
    "\n",
    "DBSCAN adapts to varying densities by dynamically adjusting the neighborhood size for each data point. It categorizes points as core, border, or noise based on density, forming clusters of arbitrary shapes and sizes. Noise points are identified as outliers.\n",
    "\n",
    "\n",
    "\n",
    "\n"
   ]
  },
  {
   "cell_type": "markdown",
   "id": "a5ae2fa3-d195-4e67-b935-c81dc31df928",
   "metadata": {},
   "source": [
    "Q8. What are some common evaluation metrics used to assess the quality of DBSCAN clustering results?"
   ]
  },
  {
   "cell_type": "markdown",
   "id": "5426583e-b109-4d0f-8fd6-30e28f98412a",
   "metadata": {},
   "source": [
    ". Silhouette Score: Measures cluster cohesion and separation.\n",
    "\n",
    ". Davies-Bouldin Index: Assesses cluster separation and compactness.\n",
    "\n",
    ". Calinski-Harabasz Index: Evaluates cluster dispersion.\n",
    "\n",
    ". Dunn Index: Measures cluster compactness and separation.\n",
    "\n",
    ". Adjusted Rand Index (ARI): Compares clustering results to ground truth labels."
   ]
  },
  {
   "cell_type": "markdown",
   "id": "abd486cd-9540-4703-a0e7-043d8bbbac71",
   "metadata": {},
   "source": [
    "Q9. Can DBSCAN clustering be used for semi-supervised learning tasks?"
   ]
  },
  {
   "cell_type": "markdown",
   "id": "4f6ce188-8078-4231-96ca-620d9bc75b30",
   "metadata": {},
   "source": [
    "\n",
    "DBSCAN clustering is primarily for unsupervised learning, but it can be adapted for semi-supervised tasks by using its clustering results to generate initial labels, propagating labels, or combining with supervised learning methods. However, it's not inherently designed for semi-supervised learning."
   ]
  },
  {
   "cell_type": "markdown",
   "id": "99f10f48-a7e4-4ed7-89e8-5993eba08db4",
   "metadata": {},
   "source": [
    "Q10. How does DBSCAN clustering handle datasets with noise or missing values?"
   ]
  },
  {
   "cell_type": "markdown",
   "id": "1474497e-36c7-49db-bd16-5be6a34163b1",
   "metadata": {},
   "source": [
    "\n",
    "DBSCAN handles noise by categorizing outliers as noise points and excluding them from clusters. For missing values, preprocessing techniques like imputation or excluding incomplete data can be applied before clustering with DBSCAN."
   ]
  },
  {
   "cell_type": "markdown",
   "id": "eff29927-a0b3-4d97-bb0f-5b98f226052a",
   "metadata": {},
   "source": [
    "Q11. Implement the DBSCAN algorithm using a python programming language, and apply it to a sample\n",
    "dataset. Discuss the clustering results and interpret the meaning of the obtained clusters."
   ]
  },
  {
   "cell_type": "code",
   "execution_count": 2,
   "id": "2a1eee2c-139e-4edd-a8be-7433094a8167",
   "metadata": {},
   "outputs": [],
   "source": [
    "# here i am importing libraries\n",
    "\n",
    "from sklearn.cluster import DBSCAN\n",
    "from sklearn.datasets import make_moons\n",
    "import matplotlib.pyplot as plt"
   ]
  },
  {
   "cell_type": "code",
   "execution_count": 4,
   "id": "049595a2-23a3-4a4f-8845-677a6f43e786",
   "metadata": {},
   "outputs": [],
   "source": [
    "X , y = make_moons(n_samples=250,noise=0.05)\n"
   ]
  },
  {
   "cell_type": "code",
   "execution_count": 5,
   "id": "6c76203a-1da5-4b15-8e29-2705a2559305",
   "metadata": {},
   "outputs": [
    {
     "data": {
      "text/plain": [
       "array([[ 2.40633359e-01,  9.76453851e-01],\n",
       "       [ 9.55785845e-01,  3.19260426e-01],\n",
       "       [-8.88396299e-01,  2.76401458e-01],\n",
       "       [-3.84908365e-01,  8.60198175e-01],\n",
       "       [ 1.09383906e+00,  2.99433101e-01],\n",
       "       [-6.56293097e-01,  8.66525623e-01],\n",
       "       [-7.94941404e-02,  1.05279203e+00],\n",
       "       [ 6.47528209e-01,  6.42465638e-01],\n",
       "       [ 7.38936450e-01, -3.72081577e-01],\n",
       "       [-7.21736678e-01,  6.48691653e-01],\n",
       "       [ 2.06242426e-01,  9.39190370e-01],\n",
       "       [ 7.10498719e-01,  8.20899347e-01],\n",
       "       [-6.66085066e-01,  7.59860487e-01],\n",
       "       [ 1.64420528e+00, -2.54894024e-01],\n",
       "       [ 7.24580335e-01, -4.41891341e-01],\n",
       "       [ 8.79798649e-01, -5.15245543e-01],\n",
       "       [ 7.33568641e-03,  1.38757329e-01],\n",
       "       [ 7.83138812e-01,  6.93180436e-01],\n",
       "       [-5.72598340e-01,  8.36504906e-01],\n",
       "       [ 1.92539662e+00,  3.17325117e-01],\n",
       "       [ 3.32215279e-02,  3.68776788e-01],\n",
       "       [ 3.03799908e-01,  9.91444172e-01],\n",
       "       [-7.45218800e-01,  6.67986715e-01],\n",
       "       [ 8.87477650e-01,  1.32810956e-01],\n",
       "       [ 1.27304425e+00, -4.78493184e-01],\n",
       "       [ 1.42283713e+00, -3.91973380e-01],\n",
       "       [ 2.06656147e+00,  4.94506936e-01],\n",
       "       [ 8.55642354e-01,  6.29767923e-01],\n",
       "       [ 1.25083995e-01, -4.97275344e-02],\n",
       "       [ 1.17214878e+00, -5.19434742e-01],\n",
       "       [ 2.07026659e-01, -1.24658696e-01],\n",
       "       [-7.47361367e-01,  6.89464075e-01],\n",
       "       [ 1.53457770e+00, -3.26510469e-01],\n",
       "       [ 8.61774224e-01,  5.46733685e-01],\n",
       "       [ 5.12028131e-01, -4.14576265e-01],\n",
       "       [ 9.25122398e-01,  4.05637017e-01],\n",
       "       [ 9.24050461e-04,  3.94258761e-01],\n",
       "       [ 7.90796031e-01,  7.48654772e-01],\n",
       "       [-1.07899312e+00,  1.68486973e-01],\n",
       "       [ 3.58550725e-02,  2.55770538e-01],\n",
       "       [ 4.32817806e-01,  8.47393461e-01],\n",
       "       [-8.40374386e-01,  4.48617577e-01],\n",
       "       [ 7.03972784e-02,  3.28478255e-01],\n",
       "       [-5.77976727e-01,  7.69529796e-01],\n",
       "       [ 1.26620556e+00, -4.56369629e-01],\n",
       "       [-4.81091006e-01,  8.26145619e-01],\n",
       "       [-9.67485541e-01,  4.19008005e-02],\n",
       "       [-8.20724026e-01,  6.29642863e-01],\n",
       "       [-1.47966514e-03,  9.86962327e-01],\n",
       "       [ 2.45974984e-01,  1.06649675e+00],\n",
       "       [ 8.37600289e-01,  5.24331191e-01],\n",
       "       [ 4.33374514e-01,  8.78106027e-01],\n",
       "       [-7.95435835e-01,  7.11208818e-01],\n",
       "       [ 1.06545036e-01,  1.00271351e+00],\n",
       "       [ 7.93358371e-01,  6.53397434e-01],\n",
       "       [-2.78510405e-01,  9.17075290e-01],\n",
       "       [ 8.84133319e-01,  4.11629927e-01],\n",
       "       [-9.63698511e-01,  2.24789543e-01],\n",
       "       [ 1.82181139e+00,  1.16083115e-01],\n",
       "       [ 1.01314034e+00, -4.90209435e-01],\n",
       "       [-5.42659344e-02,  1.02433660e+00],\n",
       "       [ 1.17066818e+00, -5.20487782e-01],\n",
       "       [-3.10848537e-01,  9.09230340e-01],\n",
       "       [ 1.90531543e+00,  1.28782148e-01],\n",
       "       [ 1.41966017e+00, -3.74372502e-01],\n",
       "       [-4.82986676e-01,  8.50171356e-01],\n",
       "       [-4.51469255e-01,  9.21392168e-01],\n",
       "       [ 2.00703499e+00,  2.94520445e-01],\n",
       "       [ 1.27131373e+00, -5.11865464e-01],\n",
       "       [ 2.14175473e-01, -1.39051315e-01],\n",
       "       [ 5.84445409e-01, -3.72481456e-01],\n",
       "       [-4.90560477e-01,  7.59632159e-01],\n",
       "       [-2.22688893e-02,  2.81382320e-01],\n",
       "       [ 1.06091007e+00, -4.95126554e-01],\n",
       "       [ 5.52222305e-01, -4.60569655e-01],\n",
       "       [ 1.86296014e+00, -7.02852290e-02],\n",
       "       [ 1.71929795e+00, -1.26399085e-01],\n",
       "       [ 2.01016190e-01,  9.70505354e-01],\n",
       "       [ 8.56094721e-01, -5.31086715e-01],\n",
       "       [-2.91117419e-02,  2.21511384e-01],\n",
       "       [-6.98816024e-01,  7.80378649e-01],\n",
       "       [-9.50090505e-01,  3.05059530e-01],\n",
       "       [ 6.87334618e-01,  7.81536279e-01],\n",
       "       [ 5.82082026e-01, -4.26577946e-01],\n",
       "       [ 1.38112576e+00, -4.47247546e-01],\n",
       "       [-3.52986636e-01,  9.73045526e-01],\n",
       "       [-8.47834761e-01,  4.12906787e-01],\n",
       "       [ 1.46316905e+00, -3.43800824e-01],\n",
       "       [ 1.22735301e-01,  2.03766005e-01],\n",
       "       [-1.51322606e-02,  5.80238649e-01],\n",
       "       [ 9.66431638e-01,  3.30058093e-01],\n",
       "       [ 6.04459598e-01,  7.71630692e-01],\n",
       "       [ 9.92567240e-01,  2.63890348e-01],\n",
       "       [ 1.56308608e+00, -3.36842412e-01],\n",
       "       [-9.51609086e-01,  3.06945186e-01],\n",
       "       [-8.06921571e-01,  5.55884178e-01],\n",
       "       [ 9.69697688e-01,  3.83102754e-01],\n",
       "       [-9.42912879e-01,  1.07451925e-01],\n",
       "       [ 2.98909598e-01, -2.31058116e-01],\n",
       "       [ 1.97491736e+00,  3.17912862e-01],\n",
       "       [ 1.34344625e+00, -3.91538832e-01],\n",
       "       [ 2.30055964e-01, -2.67427457e-01],\n",
       "       [ 1.76924691e+00,  4.47046971e-02],\n",
       "       [ 5.62563862e-01,  7.80327061e-01],\n",
       "       [ 2.03940250e+00,  4.54986853e-01],\n",
       "       [ 1.15967097e+00, -4.98750826e-01],\n",
       "       [ 9.39831621e-02,  2.61415307e-01],\n",
       "       [ 1.47977904e-01, -3.22510944e-02],\n",
       "       [ 4.05695385e-01,  9.03596973e-01],\n",
       "       [ 9.33545052e-01,  4.29334111e-01],\n",
       "       [ 1.19281095e-01,  9.72410764e-01],\n",
       "       [ 1.68653970e+00, -2.52494845e-01],\n",
       "       [ 8.90665201e-02,  1.99854686e-01],\n",
       "       [ 4.98283297e-02,  4.87188886e-01],\n",
       "       [-2.38277103e-01,  1.02561854e+00],\n",
       "       [ 1.02934552e+00,  1.03408003e-01],\n",
       "       [-9.24105297e-01,  2.22985901e-01],\n",
       "       [-9.57039679e-01,  4.68034763e-01],\n",
       "       [ 1.78945529e+00, -1.93081013e-01],\n",
       "       [ 1.87796194e+00,  4.75816042e-02],\n",
       "       [ 1.00546985e+00,  1.04186793e-01],\n",
       "       [ 3.44972432e-01, -4.10410595e-02],\n",
       "       [ 2.07992253e+00,  3.90138434e-01],\n",
       "       [-3.06189473e-01,  1.02329050e+00],\n",
       "       [ 4.12140217e-01, -3.88467886e-01],\n",
       "       [ 1.90453860e+00, -1.29853581e-01],\n",
       "       [ 8.47491578e-01,  5.11317701e-01],\n",
       "       [-1.00995616e+00, -3.88385199e-02],\n",
       "       [-9.85115373e-01,  4.97188656e-01],\n",
       "       [ 9.14164279e-01, -5.06932672e-01],\n",
       "       [ 4.51555018e-02,  9.67364642e-02],\n",
       "       [-2.41493748e-01,  1.07500516e+00],\n",
       "       [-5.95889495e-01,  7.89377125e-01],\n",
       "       [ 1.97091115e+00,  5.46152508e-01],\n",
       "       [ 5.94066260e-02,  3.11305585e-01],\n",
       "       [ 1.70854624e+00, -2.70991117e-01],\n",
       "       [-8.88740982e-01,  5.57523183e-01],\n",
       "       [ 4.36864129e-01, -3.47774780e-01],\n",
       "       [ 1.45460673e+00, -3.91472210e-01],\n",
       "       [ 1.93517090e+00,  1.31954882e-01],\n",
       "       [ 1.57351432e+00, -2.73195448e-01],\n",
       "       [ 1.14939839e-01,  9.75056624e-01],\n",
       "       [-8.98723726e-01,  3.46403500e-01],\n",
       "       [ 1.96425233e+00,  2.38667232e-01],\n",
       "       [-4.23769177e-01,  8.98008218e-01],\n",
       "       [ 8.57457645e-02,  4.83081920e-02],\n",
       "       [ 9.29509418e-01,  4.85501329e-01],\n",
       "       [ 8.88803675e-01,  2.62062693e-01],\n",
       "       [ 2.18973436e-01,  1.06481985e+00],\n",
       "       [ 1.76967245e+00, -8.57124490e-02],\n",
       "       [-2.05861829e-01,  9.29564963e-01],\n",
       "       [ 2.01526449e+00,  3.41383257e-01],\n",
       "       [ 5.55574662e-01,  8.54391832e-01],\n",
       "       [-7.29817401e-01,  6.60292545e-01],\n",
       "       [ 8.39935617e-01, -5.31025438e-01],\n",
       "       [ 9.66099386e-01, -4.70862495e-01],\n",
       "       [ 2.00034541e+00,  2.65456052e-01],\n",
       "       [ 1.72983928e+00, -1.47347965e-01],\n",
       "       [ 6.19766967e-01, -3.92309242e-01],\n",
       "       [-9.60218716e-02,  9.75346149e-01],\n",
       "       [-5.63390261e-01,  7.78986488e-01],\n",
       "       [-2.08323429e-01,  9.42127184e-01],\n",
       "       [ 1.88062089e+00,  2.30127094e-01],\n",
       "       [ 2.83054452e-01, -1.78951092e-01],\n",
       "       [ 8.33237418e-01,  5.66496595e-01],\n",
       "       [ 1.18956795e-01, -4.42011511e-03],\n",
       "       [ 6.37937669e-01, -4.79051174e-01],\n",
       "       [ 4.23921729e-01, -3.63695508e-01],\n",
       "       [-6.26945581e-02,  4.26835728e-01],\n",
       "       [ 1.67586721e+00, -2.85471169e-01],\n",
       "       [ 8.29169997e-01, -5.82413463e-01],\n",
       "       [ 1.03559663e+00, -4.19617404e-01],\n",
       "       [-9.68801834e-01,  1.42510818e-02],\n",
       "       [-5.02736846e-01,  8.33174106e-01],\n",
       "       [ 1.94474083e+00,  1.59719993e-01],\n",
       "       [ 4.11509168e-01, -4.18798408e-01],\n",
       "       [ 3.15300491e-01, -2.02361250e-01],\n",
       "       [ 1.63593913e+00, -3.09117085e-01],\n",
       "       [ 1.83039274e-01,  3.73762100e-02],\n",
       "       [-2.01378770e-01,  9.70661120e-01],\n",
       "       [ 2.46511206e-01, -1.57095668e-01],\n",
       "       [-9.20837555e-01,  6.54961692e-01],\n",
       "       [ 1.80542195e+00,  9.42030288e-02],\n",
       "       [ 3.61420178e-01, -2.98097517e-01],\n",
       "       [ 9.71258455e-01,  1.75674741e-01],\n",
       "       [ 1.86883988e+00, -6.23745120e-03],\n",
       "       [ 8.79200137e-01,  4.20136083e-01],\n",
       "       [ 1.94849436e+00,  1.48130950e-01],\n",
       "       [ 3.86652817e-01,  9.56689572e-01],\n",
       "       [ 5.33635800e-01,  8.81649050e-01],\n",
       "       [-9.38537567e-01,  1.29921285e-01],\n",
       "       [ 5.57750864e-01, -4.42073746e-01],\n",
       "       [ 1.52918169e-01,  9.02918735e-02],\n",
       "       [ 6.39028199e-01,  8.68878923e-01],\n",
       "       [ 1.74257824e+00, -7.37263369e-02],\n",
       "       [ 4.00601098e-01,  8.87492600e-01],\n",
       "       [ 7.07129628e-01,  7.72408326e-01],\n",
       "       [ 2.85667425e-01,  9.53365867e-01],\n",
       "       [ 7.11193776e-01,  6.52401057e-01],\n",
       "       [ 8.69172985e-02,  9.77944449e-01],\n",
       "       [ 1.38785491e-01,  1.66812764e-02],\n",
       "       [-5.50622300e-02,  1.01989727e+00],\n",
       "       [ 3.80569190e-01,  9.02557960e-01],\n",
       "       [ 5.22000622e-01, -3.54816649e-01],\n",
       "       [ 9.33020105e-01,  3.51321171e-01],\n",
       "       [ 1.29739714e+00, -4.16407556e-01],\n",
       "       [ 8.87773435e-01, -4.83767129e-01],\n",
       "       [-1.03605491e+00,  4.09008316e-02],\n",
       "       [ 9.70682449e-01, -4.59974868e-02],\n",
       "       [-9.50255086e-01,  5.16629752e-01],\n",
       "       [ 1.23908896e-01,  1.02289237e+00],\n",
       "       [ 1.09801701e+00,  1.11895123e-01],\n",
       "       [-1.01292116e+00,  2.51205536e-01],\n",
       "       [ 6.88693867e-01, -5.02654474e-01],\n",
       "       [-2.22368778e-01,  1.00547900e+00],\n",
       "       [ 5.50557680e-01, -3.23726570e-01],\n",
       "       [ 1.98981523e+00,  3.86256723e-01],\n",
       "       [ 1.54045480e+00, -3.62229171e-01],\n",
       "       [-8.22167121e-01,  5.85758629e-01],\n",
       "       [-1.00118993e-01,  9.19521817e-01],\n",
       "       [ 7.11317828e-01,  6.09809824e-01],\n",
       "       [-8.73855524e-01,  4.45472980e-01],\n",
       "       [ 7.68321007e-01, -4.80300948e-01],\n",
       "       [-5.84926500e-01,  9.31453598e-01],\n",
       "       [ 8.29167073e-01, -4.89271305e-01],\n",
       "       [-9.89198572e-01,  2.53276596e-01],\n",
       "       [ 5.14884107e-01,  8.29033183e-01],\n",
       "       [ 1.60311904e+00, -2.34755276e-01],\n",
       "       [-1.52339590e-02,  9.01331116e-02],\n",
       "       [ 1.21255673e+00, -4.81993125e-01],\n",
       "       [ 9.37009956e-01,  1.80322691e-01],\n",
       "       [ 1.40474302e+00, -3.54855881e-01],\n",
       "       [-1.35963079e-02,  2.12193623e-01],\n",
       "       [ 1.87589831e-01, -1.50592200e-01],\n",
       "       [ 9.79615652e-01, -4.75498055e-01],\n",
       "       [ 1.27943378e+00, -3.86357497e-01],\n",
       "       [-9.57169119e-01,  3.63689323e-01],\n",
       "       [ 6.15595605e-01, -4.24858017e-01],\n",
       "       [ 4.02099542e-01, -1.71018758e-01],\n",
       "       [ 1.06424334e+00,  7.72678000e-02],\n",
       "       [ 1.93263335e+00,  2.23738582e-01],\n",
       "       [ 1.92831881e+00,  3.11796563e-01],\n",
       "       [ 8.33207403e-01,  5.78714410e-01],\n",
       "       [ 9.66856984e-01,  3.87672872e-01],\n",
       "       [ 5.49485254e-01,  8.58040556e-01],\n",
       "       [-9.85885110e-02,  4.86927908e-01],\n",
       "       [ 1.02399364e+00, -4.15830851e-01],\n",
       "       [ 1.75259490e+00, -1.31599395e-01],\n",
       "       [ 2.94570565e-01,  8.97894541e-01],\n",
       "       [ 1.35156091e+00, -4.27354433e-01]])"
      ]
     },
     "execution_count": 5,
     "metadata": {},
     "output_type": "execute_result"
    }
   ],
   "source": [
    "X"
   ]
  },
  {
   "cell_type": "code",
   "execution_count": 6,
   "id": "1cb88b00-424c-4ff7-9bac-8e706f9c52b5",
   "metadata": {},
   "outputs": [
    {
     "data": {
      "text/plain": [
       "array([0, 0, 0, 0, 0, 0, 0, 0, 1, 0, 0, 0, 0, 1, 1, 1, 1, 0, 0, 1, 1, 0,\n",
       "       0, 0, 1, 1, 1, 0, 1, 1, 1, 0, 1, 0, 1, 0, 1, 0, 0, 1, 0, 0, 1, 0,\n",
       "       1, 0, 0, 0, 0, 0, 0, 0, 0, 0, 0, 0, 0, 0, 1, 1, 0, 1, 0, 1, 1, 0,\n",
       "       0, 1, 1, 1, 1, 0, 1, 1, 1, 1, 1, 0, 1, 1, 0, 0, 0, 1, 1, 0, 0, 1,\n",
       "       1, 1, 0, 0, 0, 1, 0, 0, 0, 0, 1, 1, 1, 1, 1, 0, 1, 1, 1, 1, 0, 0,\n",
       "       0, 1, 1, 1, 0, 0, 0, 0, 1, 1, 0, 1, 1, 0, 1, 1, 0, 0, 0, 1, 1, 0,\n",
       "       0, 1, 1, 1, 0, 1, 1, 1, 1, 0, 0, 1, 0, 1, 0, 0, 0, 1, 0, 1, 0, 0,\n",
       "       1, 1, 1, 1, 1, 0, 0, 0, 1, 1, 0, 1, 1, 1, 1, 1, 1, 1, 0, 0, 1, 1,\n",
       "       1, 1, 1, 0, 1, 0, 1, 1, 0, 1, 0, 1, 0, 0, 0, 1, 1, 0, 1, 0, 0, 0,\n",
       "       0, 0, 1, 0, 0, 1, 0, 1, 1, 0, 0, 0, 0, 0, 0, 1, 0, 1, 1, 1, 0, 0,\n",
       "       0, 0, 1, 0, 1, 0, 0, 1, 1, 1, 0, 1, 1, 1, 1, 1, 0, 1, 1, 0, 1, 1,\n",
       "       0, 0, 0, 1, 1, 1, 0, 1])"
      ]
     },
     "execution_count": 6,
     "metadata": {},
     "output_type": "execute_result"
    }
   ],
   "source": [
    "y"
   ]
  },
  {
   "cell_type": "code",
   "execution_count": 7,
   "id": "626c7151-30a8-4368-a8d9-3be64db7458a",
   "metadata": {},
   "outputs": [
    {
     "data": {
      "text/html": [
       "<style>#sk-container-id-1 {color: black;background-color: white;}#sk-container-id-1 pre{padding: 0;}#sk-container-id-1 div.sk-toggleable {background-color: white;}#sk-container-id-1 label.sk-toggleable__label {cursor: pointer;display: block;width: 100%;margin-bottom: 0;padding: 0.3em;box-sizing: border-box;text-align: center;}#sk-container-id-1 label.sk-toggleable__label-arrow:before {content: \"▸\";float: left;margin-right: 0.25em;color: #696969;}#sk-container-id-1 label.sk-toggleable__label-arrow:hover:before {color: black;}#sk-container-id-1 div.sk-estimator:hover label.sk-toggleable__label-arrow:before {color: black;}#sk-container-id-1 div.sk-toggleable__content {max-height: 0;max-width: 0;overflow: hidden;text-align: left;background-color: #f0f8ff;}#sk-container-id-1 div.sk-toggleable__content pre {margin: 0.2em;color: black;border-radius: 0.25em;background-color: #f0f8ff;}#sk-container-id-1 input.sk-toggleable__control:checked~div.sk-toggleable__content {max-height: 200px;max-width: 100%;overflow: auto;}#sk-container-id-1 input.sk-toggleable__control:checked~label.sk-toggleable__label-arrow:before {content: \"▾\";}#sk-container-id-1 div.sk-estimator input.sk-toggleable__control:checked~label.sk-toggleable__label {background-color: #d4ebff;}#sk-container-id-1 div.sk-label input.sk-toggleable__control:checked~label.sk-toggleable__label {background-color: #d4ebff;}#sk-container-id-1 input.sk-hidden--visually {border: 0;clip: rect(1px 1px 1px 1px);clip: rect(1px, 1px, 1px, 1px);height: 1px;margin: -1px;overflow: hidden;padding: 0;position: absolute;width: 1px;}#sk-container-id-1 div.sk-estimator {font-family: monospace;background-color: #f0f8ff;border: 1px dotted black;border-radius: 0.25em;box-sizing: border-box;margin-bottom: 0.5em;}#sk-container-id-1 div.sk-estimator:hover {background-color: #d4ebff;}#sk-container-id-1 div.sk-parallel-item::after {content: \"\";width: 100%;border-bottom: 1px solid gray;flex-grow: 1;}#sk-container-id-1 div.sk-label:hover label.sk-toggleable__label {background-color: #d4ebff;}#sk-container-id-1 div.sk-serial::before {content: \"\";position: absolute;border-left: 1px solid gray;box-sizing: border-box;top: 0;bottom: 0;left: 50%;z-index: 0;}#sk-container-id-1 div.sk-serial {display: flex;flex-direction: column;align-items: center;background-color: white;padding-right: 0.2em;padding-left: 0.2em;position: relative;}#sk-container-id-1 div.sk-item {position: relative;z-index: 1;}#sk-container-id-1 div.sk-parallel {display: flex;align-items: stretch;justify-content: center;background-color: white;position: relative;}#sk-container-id-1 div.sk-item::before, #sk-container-id-1 div.sk-parallel-item::before {content: \"\";position: absolute;border-left: 1px solid gray;box-sizing: border-box;top: 0;bottom: 0;left: 50%;z-index: -1;}#sk-container-id-1 div.sk-parallel-item {display: flex;flex-direction: column;z-index: 1;position: relative;background-color: white;}#sk-container-id-1 div.sk-parallel-item:first-child::after {align-self: flex-end;width: 50%;}#sk-container-id-1 div.sk-parallel-item:last-child::after {align-self: flex-start;width: 50%;}#sk-container-id-1 div.sk-parallel-item:only-child::after {width: 0;}#sk-container-id-1 div.sk-dashed-wrapped {border: 1px dashed gray;margin: 0 0.4em 0.5em 0.4em;box-sizing: border-box;padding-bottom: 0.4em;background-color: white;}#sk-container-id-1 div.sk-label label {font-family: monospace;font-weight: bold;display: inline-block;line-height: 1.2em;}#sk-container-id-1 div.sk-label-container {text-align: center;}#sk-container-id-1 div.sk-container {/* jupyter's `normalize.less` sets `[hidden] { display: none; }` but bootstrap.min.css set `[hidden] { display: none !important; }` so we also need the `!important` here to be able to override the default hidden behavior on the sphinx rendered scikit-learn.org. See: https://github.com/scikit-learn/scikit-learn/issues/21755 */display: inline-block !important;position: relative;}#sk-container-id-1 div.sk-text-repr-fallback {display: none;}</style><div id=\"sk-container-id-1\" class=\"sk-top-container\"><div class=\"sk-text-repr-fallback\"><pre>DBSCAN(eps=0.05)</pre><b>In a Jupyter environment, please rerun this cell to show the HTML representation or trust the notebook. <br />On GitHub, the HTML representation is unable to render, please try loading this page with nbviewer.org.</b></div><div class=\"sk-container\" hidden><div class=\"sk-item\"><div class=\"sk-estimator sk-toggleable\"><input class=\"sk-toggleable__control sk-hidden--visually\" id=\"sk-estimator-id-1\" type=\"checkbox\" checked><label for=\"sk-estimator-id-1\" class=\"sk-toggleable__label sk-toggleable__label-arrow\">DBSCAN</label><div class=\"sk-toggleable__content\"><pre>DBSCAN(eps=0.05)</pre></div></div></div></div></div>"
      ],
      "text/plain": [
       "DBSCAN(eps=0.05)"
      ]
     },
     "execution_count": 7,
     "metadata": {},
     "output_type": "execute_result"
    }
   ],
   "source": [
    "scan = DBSCAN(eps = 0.05)\n",
    "scan.fit(X)"
   ]
  },
  {
   "cell_type": "code",
   "execution_count": 8,
   "id": "7b25addc-53b0-4e4a-9191-f625d8a0afb4",
   "metadata": {},
   "outputs": [],
   "source": [
    "labels = scan.fit_predict(X)"
   ]
  },
  {
   "cell_type": "code",
   "execution_count": 9,
   "id": "1db55688-d226-4073-9478-0c21c96ea3c2",
   "metadata": {},
   "outputs": [
    {
     "data": {
      "text/plain": [
       "array([-1,  6, -1, -1, -1, -1, -1, -1, -1, -1, -1, -1, -1,  5, -1,  0, -1,\n",
       "       -1, -1,  4, -1, -1, -1, -1, -1, -1, -1, -1, -1, -1, -1, -1, -1,  1,\n",
       "       -1,  2, -1, -1, -1, -1, -1, -1, -1, -1, -1, -1, -1, -1, -1, -1,  1,\n",
       "       -1, -1,  3, -1, -1,  2, -1, -1, -1, -1, -1, -1, -1, -1, -1, -1,  4,\n",
       "       -1, -1, -1, -1, -1, -1, -1, -1, -1, -1,  0, -1, -1, -1, -1, -1, -1,\n",
       "       -1, -1, -1, -1, -1,  6, -1, -1, -1, -1, -1,  2, -1, -1,  4, -1, -1,\n",
       "       -1, -1, -1, -1, -1, -1, -1,  2,  3,  5, -1, -1, -1, -1, -1, -1, -1,\n",
       "       -1, -1, -1, -1, -1, -1, -1,  1, -1, -1,  0, -1, -1, -1, -1, -1,  5,\n",
       "       -1, -1, -1, -1, -1,  3, -1, -1, -1, -1, -1, -1, -1, -1, -1,  4, -1,\n",
       "       -1,  0, -1, -1, -1, -1, -1, -1, -1, -1, -1,  1, -1, -1, -1, -1,  5,\n",
       "       -1, -1, -1, -1, -1, -1, -1,  5, -1, -1, -1, -1, -1, -1, -1, -1,  2,\n",
       "       -1, -1, -1, -1, -1, -1, -1, -1, -1, -1, -1, -1,  3, -1, -1, -1, -1,\n",
       "        6, -1,  0, -1, -1, -1,  3, -1, -1, -1, -1, -1, -1, -1, -1, -1, -1,\n",
       "       -1, -1, -1, -1, -1, -1, -1, -1, -1, -1, -1, -1, -1, -1, -1, -1, -1,\n",
       "       -1, -1, -1,  4,  1,  2, -1, -1, -1, -1, -1, -1])"
      ]
     },
     "execution_count": 9,
     "metadata": {},
     "output_type": "execute_result"
    }
   ],
   "source": [
    "labels"
   ]
  },
  {
   "cell_type": "code",
   "execution_count": 11,
   "id": "5337324b-76f6-4913-9302-37a979ef05d6",
   "metadata": {},
   "outputs": [
    {
     "data": {
      "image/png": "[encoded data removed]",
      "text/plain": [
       "<Figure size 640x480 with 2 Axes>"
      ]
     },
     "metadata": {},
     "output_type": "display_data"
    }
   ],
   "source": [
    "plt.scatter(X[:,0] , X[:,1] , c=labels, cmap='viridis')\n",
    "plt.xlabel(\"Feature 1\")\n",
    "plt.ylabel(\"Feature 2\")\n",
    "plt.title('DBSCAN Clustering Results')\n",
    "plt.colorbar(label='Cluster Label')\n",
    "plt.show()\n"
   ]
  },
  {
   "cell_type": "code",
   "execution_count": null,
   "id": "b0c6f4ed-5844-4243-ad2f-89521ad54f8c",
   "metadata": {},
   "outputs": [],
   "source": []
  }
 ],
 "metadata": {
  "kernelspec": {
   "display_name": "Python 3 (ipykernel)",
   "language": "python",
   "name": "python3"
  },
  "language_info": {
   "codemirror_mode": {
    "name": "ipython",
    "version": 3
   },
   "file_extension": ".py",
   "mimetype": "text/x-python",
   "name": "python",
   "nbconvert_exporter": "python",
   "pygments_lexer": "ipython3",
   "version": "3.10.8"
  }
 },
 "nbformat": 4,
 "nbformat_minor": 5
}
